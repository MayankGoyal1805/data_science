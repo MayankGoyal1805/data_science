{
 "cells": [
  {
   "cell_type": "code",
   "execution_count": null,
   "id": "2d825a13",
   "metadata": {},
   "outputs": [
    {
     "data": {
      "text/plain": [
       "{0: 1, 1: 2, 2: 1, 3: 1, 7: 2, 23: 1}"
      ]
     },
     "execution_count": 1,
     "metadata": {},
     "output_type": "execute_result"
    }
   ],
   "source": [
    "# Need not be sorted, necessarily\n",
    "a = (0,1,1,2,3,7,7,23)\n",
    "\n",
    "def count_elements(seq) -> dict:\n",
    "    \"\"\"Tally elements from 'seq'. \"\"\"\n",
    "    hist = {}\n",
    "    for i in seq:\n",
    "        hist[i]  = hist.get(i,0) + 1\n",
    "    return hist\n",
    "\n",
    "counted = count_elements(a)    \n",
    "counted"
   ]
  },
  {
   "cell_type": "markdown",
   "id": "6c21d4d1",
   "metadata": {},
   "source": [
    "binding the function to a variable for micro-optimizations"
   ]
  },
  {
   "cell_type": "code",
   "execution_count": null,
   "id": "951b9939",
   "metadata": {},
   "outputs": [
    {
     "data": {
      "text/plain": [
       "{0: 1, 1: 2, 2: 1, 3: 1, 7: 2, 23: 1}"
      ]
     },
     "execution_count": 2,
     "metadata": {},
     "output_type": "execute_result"
    }
   ],
   "source": [
    "hist1 = {}\n",
    "get = hist1.get\n",
    "def count_elements(seq) -> dict:\n",
    "    for i in seq:\n",
    "        hist1[i] = get(i,0) + 1\n",
    "    return hist1\n",
    "\n",
    "counted = count_elements(a)   \n",
    "counted"
   ]
  },
  {
   "cell_type": "code",
   "execution_count": null,
   "id": "509ce61b",
   "metadata": {},
   "outputs": [
    {
     "data": {
      "text/plain": [
       "Counter({1: 2, 7: 2, 0: 1, 2: 1, 3: 1, 23: 1})"
      ]
     },
     "execution_count": 3,
     "metadata": {},
     "output_type": "execute_result"
    }
   ],
   "source": [
    "from collections import Counter\n",
    "\n",
    "recounted = Counter(a)\n",
    "recounted"
   ]
  },
  {
   "cell_type": "code",
   "execution_count": null,
   "id": "a51ca791",
   "metadata": {},
   "outputs": [
    {
     "name": "stdout",
     "output_type": "stream",
     "text": [
      "[0, 1, 2, 3, 7, 23]\n",
      "    0 +\n",
      "    1 ++\n",
      "    2 +\n",
      "    3 +\n",
      "    7 ++\n",
      "   23 +\n"
     ]
    }
   ],
   "source": [
    "def ascii_histogram(seq) -> None:\n",
    "    \"\"\"A horizontal frequency-table/histogram plot.\"\"\"\n",
    "\n",
    "    print(repr(sorted(counted)))\n",
    "    for k in sorted(counted):\n",
    "        print('{0:5d} {1}'.format(k, '+' * counted[k]))\n",
    "\n",
    "\n",
    "ascii_histogram(counted)        "
   ]
  },
  {
   "cell_type": "code",
   "execution_count": null,
   "id": "9dbfc636",
   "metadata": {},
   "outputs": [],
   "source": []
  }
 ],
 "metadata": {
  "kernelspec": {
   "display_name": "base",
   "language": "python",
   "name": "python3"
  },
  "language_info": {
   "codemirror_mode": {
    "name": "ipython",
    "version": 3
   },
   "file_extension": ".py",
   "mimetype": "text/x-python",
   "name": "python",
   "nbconvert_exporter": "python",
   "pygments_lexer": "ipython3",
   "version": "3.13.5"
  }
 },
 "nbformat": 4,
 "nbformat_minor": 5
}
