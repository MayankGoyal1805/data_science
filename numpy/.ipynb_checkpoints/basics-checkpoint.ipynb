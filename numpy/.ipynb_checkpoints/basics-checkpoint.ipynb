{
 "cells": [
  {
   "cell_type": "code",
   "execution_count": 1,
   "id": "14dbeb98",
   "metadata": {},
   "outputs": [
    {
     "name": "stdout",
     "output_type": "stream",
     "text": [
      "unsigned c: [4294967293 4294967293 4294967293] uint32\n"
     ]
    }
   ],
   "source": [
    "import numpy as np\n",
    "\n",
    "a = np.array([2, 3, 4], dtype=np.uint32)\n",
    "\n",
    "b = np.array([5, 6, 7], dtype=np.uint32)\n",
    "\n",
    "c = a - b\n",
    "\n",
    "print('unsigned c:', c, c.dtype)"
   ]
  },
  {
   "cell_type": "markdown",
   "id": "04f27bb5",
   "metadata": {},
   "source": [
    "1D Array Making"
   ]
  },
  {
   "cell_type": "code",
   "execution_count": 2,
   "id": "b7e73d2f",
   "metadata": {},
   "outputs": [
    {
     "name": "stdout",
     "output_type": "stream",
     "text": [
      "[10 15 20 25 30 35]\n",
      "[4 5 6 7 8]\n"
     ]
    }
   ],
   "source": [
    "a = np.arange(10,40,5,dtype=int)\n",
    "print(a)\n",
    "\n",
    "b = np.linspace(4,8,5,dtype=int)\n",
    "\n",
    "print(b)"
   ]
  },
  {
   "cell_type": "code",
   "execution_count": 3,
   "id": "221f594a",
   "metadata": {},
   "outputs": [
    {
     "name": "stdout",
     "output_type": "stream",
     "text": [
      "[0 0 0 0 0]\n",
      "[1 1 1 1 1 1]\n",
      "[5 6 7]\n"
     ]
    }
   ],
   "source": [
    "a = np.zeros(5,dtype=int)\n",
    "print(a)\n",
    "\n",
    "b = np.ones(6)\n",
    "print(b.astype(np.int64))\n",
    "\n",
    "c = np.empty(3,dtype=int)\n",
    "print(c)"
   ]
  },
  {
   "cell_type": "code",
   "execution_count": 1,
   "id": "d773609c",
   "metadata": {},
   "outputs": [
    {
     "name": "stdout",
     "output_type": "stream",
     "text": [
      "60.75\n",
      "19.25\n",
      "[ 91.25  54.25  83.25 100.    70.25 100.    93.25  31.25]\n"
     ]
    }
   ],
   "source": [
    "import numpy as np\n",
    "CURVE_CENTER = 80\n",
    "grades = np.array([72, 35, 64, 88, 51, 90, 74, 12])\n",
    "\n",
    "def curve(grades):\n",
    "    average = grades.mean()\n",
    "    change = CURVE_CENTER - average\n",
    "    print(average)\n",
    "    print(change)\n",
    "    new_grades = grades + change\n",
    "    return np.clip(new_grades, grades, 100)\n",
    "\n",
    "print(curve(grades))"
   ]
  }
 ],
 "metadata": {
  "kernelspec": {
   "display_name": "base",
   "language": "python",
   "name": "python3"
  },
  "language_info": {
   "codemirror_mode": {
    "name": "ipython",
    "version": 3
   },
   "file_extension": ".py",
   "mimetype": "text/x-python",
   "name": "python",
   "nbconvert_exporter": "python",
   "pygments_lexer": "ipython3",
   "version": "3.12.7"
  }
 },
 "nbformat": 4,
 "nbformat_minor": 5
}
