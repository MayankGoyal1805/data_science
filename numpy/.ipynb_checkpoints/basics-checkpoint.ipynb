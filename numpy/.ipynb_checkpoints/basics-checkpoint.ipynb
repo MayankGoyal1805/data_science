{
 "cells": [
  {
   "cell_type": "code",
   "execution_count": 3,
   "id": "14dbeb98",
   "metadata": {
    "ExecuteTime": {
     "end_time": "2025-06-23T04:55:28.832358Z",
     "start_time": "2025-06-23T04:55:28.541468Z"
    }
   },
   "outputs": [
    {
     "name": "stdout",
     "output_type": "stream",
     "text": [
      "unsigned c: [4294967293 4294967293 4294967293] uint32\n"
     ]
    }
   ],
   "source": [
    "import numpy as np\n",
    "\n",
    "a = np.array([2, 3, 4], dtype=np.uint32)\n",
    "\n",
    "b = np.array([5, 6, 7], dtype=np.uint32)\n",
    "\n",
    "c = a - b\n",
    "\n",
    "print('unsigned c:', c, c.dtype)"
   ]
  },
  {
   "cell_type": "markdown",
   "id": "04f27bb5",
   "metadata": {},
   "source": [
    "1D Array Making"
   ]
  },
  {
   "cell_type": "code",
   "execution_count": 4,
   "id": "b7e73d2f",
   "metadata": {},
   "outputs": [
    {
     "name": "stdout",
     "output_type": "stream",
     "text": [
      "[10 15 20 25 30 35]\n",
      "[4 5 6 7 8]\n"
     ]
    }
   ],
   "source": [
    "a = np.arange(10,40,5,dtype=int)\n",
    "print(a)\n",
    "\n",
    "b = np.linspace(4,8,5,dtype=int)\n",
    "print(b)"
   ]
  },
  {
   "cell_type": "code",
   "execution_count": 5,
   "id": "221f594a",
   "metadata": {},
   "outputs": [
    {
     "name": "stdout",
     "output_type": "stream",
     "text": [
      "[0 0 0 0 0]\n",
      "[1 1 1 1 1 1]\n",
      "[5 6 7]\n"
     ]
    }
   ],
   "source": [
    "a = np.zeros(5,dtype=int)\n",
    "print(a)\n",
    "\n",
    "b = np.ones(6)\n",
    "print(b.astype(np.int64))\n",
    "\n",
    "c = np.empty(3,dtype=int)\n",
    "print(c)"
   ]
  },
  {
   "cell_type": "code",
   "execution_count": 6,
   "id": "d773609c",
   "metadata": {},
   "outputs": [
    {
     "name": "stdout",
     "output_type": "stream",
     "text": [
      "60.75\n",
      "9.25\n",
      "[81.25 44.25 73.25 97.25 60.25 99.25 83.25 21.25]\n"
     ]
    }
   ],
   "source": [
    "import numpy as np\n",
    "CURVE_CENTER = 70\n",
    "grades = np.array([72, 35, 64, 88, 51, 90, 74, 12])\n",
    "\n",
    "def curve(grades):\n",
    "    average = grades.mean()\n",
    "    change = CURVE_CENTER - average\n",
    "    print(average)\n",
    "    print(change)\n",
    "    new_grades = grades + change\n",
    "    return np.clip(new_grades, grades, 100)\n",
    "\n",
    "print(curve(grades))"
   ]
  },
  {
   "cell_type": "code",
   "execution_count": 7,
   "id": "bbd52295",
   "metadata": {},
   "outputs": [
    {
     "name": "stdout",
     "output_type": "stream",
     "text": [
      "[[[1]\n",
      "  [2]\n",
      "  [3]]\n",
      "\n",
      " [[4]\n",
      "  [5]\n",
      "  [6]]]\n"
     ]
    }
   ],
   "source": [
    "a = np.array([[1,2,3], [4,5,6]])\n",
    "\n",
    "b = a.reshape(2,3,1)\n",
    "print(b)"
   ]
  },
  {
   "cell_type": "code",
   "execution_count": 8,
   "id": "b9edadf8",
   "metadata": {},
   "outputs": [
    {
     "name": "stdout",
     "output_type": "stream",
     "text": [
      "[[1 2 5 6 0]\n",
      " [3 4 8 7 9]]\n"
     ]
    },
    {
     "data": {
      "text/plain": [
       "array([[1, 2],\n",
       "       [3, 4],\n",
       "       [5, 8],\n",
       "       [6, 7],\n",
       "       [0, 9]])"
      ]
     },
     "execution_count": 8,
     "metadata": {},
     "output_type": "execute_result"
    }
   ],
   "source": [
    "x = np.array([[1, 2], [3, 4]])\n",
    "\n",
    "y = np.array([[5,6,0],[8,7,9]])\n",
    "\n",
    "a = np.concatenate((x,y),axis=1)\n",
    "print(a)\n",
    "\n",
    "y = np.swapaxes(y,0,1)  \n",
    "b = np.concatenate((x,y),axis=0)\n",
    "b"
   ]
  },
  {
   "cell_type": "code",
   "execution_count": 9,
   "id": "38f70aa3",
   "metadata": {},
   "outputs": [
    {
     "name": "stdout",
     "output_type": "stream",
     "text": [
      "[0, 2, 4, 6, 8, 10]\n"
     ]
    }
   ],
   "source": [
    "my_list = [0, 1, 2, 3, 4, 5, 6, 7, 8, 9,10]\n",
    "print(my_list[::2])"
   ]
  },
  {
   "cell_type": "markdown",
   "id": "10516571",
   "metadata": {},
   "source": [
    "###  Dürer’s magic square!"
   ]
  },
  {
   "cell_type": "code",
   "execution_count": 10,
   "id": "2f711c34",
   "metadata": {},
   "outputs": [],
   "source": [
    "square = np.array([\n",
    "    [16, 3, 2, 13],\n",
    "    [5, 10, 11, 8],\n",
    "    [9, 6, 7, 12],\n",
    "    [4, 15, 14, 1]\n",
    "])\n",
    "\n",
    "for i in range(4):\n",
    "    assert square[:, i].sum() == 34\n",
    "    assert square[i, :].sum() == 34\n",
    "\n",
    "    "
   ]
  },
  {
   "cell_type": "code",
   "execution_count": 11,
   "id": "630d25a5",
   "metadata": {},
   "outputs": [
    {
     "name": "stdout",
     "output_type": "stream",
     "text": [
      "array([ 4,  6,  8, 10, 12, 14, 16, 18, 20, 22, 24, 26, 28, 30, 32, 34, 36,\n",
      "       38, 40, 42, 44, 46, 48, 50])\n"
     ]
    },
    {
     "data": {
      "text/plain": [
       "array([ 4,  6,  8, 10, 12, 14, 16, 18, 20, 22, 24, 26, 28, 30, 32, 34, 36,\n",
       "       38, 40, 42, 44, 46, 48, 50])"
      ]
     },
     "execution_count": 11,
     "metadata": {},
     "output_type": "execute_result"
    }
   ],
   "source": [
    "numbers = np.linspace(4, 50, 24, dtype=int)\n",
    "print(repr(numbers))\n",
    "numbers"
   ]
  },
  {
   "cell_type": "code",
   "execution_count": 12,
   "id": "241e1cc5",
   "metadata": {},
   "outputs": [
    {
     "data": {
      "text/plain": [
       "array([[ 4,  6,  8, 10, 12, 14],\n",
       "       [16, 18, 20, 22, 24, 26],\n",
       "       [28, 30, 32, 34, 36, 38],\n",
       "       [40, 42, 44, 46, 48, 50]])"
      ]
     },
     "execution_count": 12,
     "metadata": {},
     "output_type": "execute_result"
    }
   ],
   "source": [
    "numbers = numbers.reshape(4,-1)\n",
    "numbers"
   ]
  },
  {
   "cell_type": "markdown",
   "id": "cbf32aa3",
   "metadata": {},
   "source": []
  },
  {
   "cell_type": "markdown",
   "id": "c6ddcc56",
   "metadata": {},
   "source": [
    "### Masked arrays\n"
   ]
  },
  {
   "cell_type": "code",
   "execution_count": 13,
   "id": "1639784e",
   "metadata": {},
   "outputs": [
    {
     "data": {
      "text/plain": [
       "array([[ 4,  6,  8, 10, 12, 14],\n",
       "       [16, 18, 20, 22, 24, 26],\n",
       "       [28, 30, 32, 34, 36, 38],\n",
       "       [40, 42, 44, 46, 48, 50]])"
      ]
     },
     "execution_count": 13,
     "metadata": {},
     "output_type": "execute_result"
    }
   ],
   "source": [
    "numbers = np.linspace(4, 50, 24, dtype=int)\n",
    "numbers = numbers.reshape(4,-1)\n",
    "numbers"
   ]
  },
  {
   "cell_type": "markdown",
   "id": "97b85338",
   "metadata": {},
   "source": [
    "below we are performing Vectorized Boolean computation"
   ]
  },
  {
   "cell_type": "code",
   "execution_count": 14,
   "id": "53c81e31",
   "metadata": {},
   "outputs": [
    {
     "data": {
      "text/plain": [
       "array([[ True, False,  True, False,  True, False],\n",
       "       [ True, False,  True, False,  True, False],\n",
       "       [ True, False,  True, False,  True, False],\n",
       "       [ True, False,  True, False,  True, False]])"
      ]
     },
     "execution_count": 14,
     "metadata": {},
     "output_type": "execute_result"
    }
   ],
   "source": [
    "mask = numbers % 4 == 0\n",
    "mask"
   ]
  },
  {
   "cell_type": "code",
   "execution_count": 15,
   "id": "3b21b648",
   "metadata": {},
   "outputs": [
    {
     "data": {
      "text/plain": [
       "array([ 4,  8, 12, 16, 20, 24, 28, 32, 36, 40, 44, 48])"
      ]
     },
     "execution_count": 15,
     "metadata": {},
     "output_type": "execute_result"
    }
   ],
   "source": [
    "numbers[mask]"
   ]
  },
  {
   "cell_type": "code",
   "execution_count": 16,
   "id": "27f30b79",
   "metadata": {},
   "outputs": [
    {
     "data": {
      "text/plain": [
       "array([ 4,  8, 12, 16, 20, 24, 28, 32, 36, 40, 44, 48])"
      ]
     },
     "execution_count": 16,
     "metadata": {},
     "output_type": "execute_result"
    }
   ],
   "source": [
    "div_four = numbers[numbers%4==0]\n",
    "div_four"
   ]
  },
  {
   "cell_type": "code",
   "execution_count": 17,
   "id": "6e280bf5",
   "metadata": {},
   "outputs": [
    {
     "data": {
      "text/plain": [
       "masked_array(data=[1, 2, --, --, 5],\n",
       "             mask=[False, False,  True,  True, False],\n",
       "       fill_value=999999)"
      ]
     },
     "execution_count": 17,
     "metadata": {},
     "output_type": "execute_result"
    }
   ],
   "source": [
    "import numpy.ma as ma\n",
    "\n",
    "x = np.array([1, 2, 3, -1, 5])\n",
    "mx = ma.masked_array(x,mask=[0,0,1,1,0])\n",
    "mx"
   ]
  },
  {
   "cell_type": "markdown",
   "id": "f1ef8bc4",
   "metadata": {},
   "source": [
    "Normal distribution doc links -      \n",
    "\n",
    "[Normal](https://numpy.org/doc/stable/reference/random/generated/numpy.random.Generator.normal.html#numpy.random.Generator.normal)       \n",
    "\n",
    "[Standard Normal](https://numpy.org/doc/stable/reference/random/generated/numpy.random.Generator.standard_normal.html#numpy.random.Generator.standard_normal)"
   ]
  },
  {
   "cell_type": "markdown",
   "id": "605e480d",
   "metadata": {},
   "source": [
    "Transpose"
   ]
  },
  {
   "cell_type": "code",
   "execution_count": null,
   "id": "3f7e7ff4",
   "metadata": {},
   "outputs": [],
   "source": []
  },
  {
   "cell_type": "code",
   "execution_count": null,
   "id": "38b9fbad",
   "metadata": {},
   "outputs": [],
   "source": []
  }
 ],
 "metadata": {
  "kernelspec": {
   "display_name": "myenv",
   "language": "python",
   "name": "python3"
  },
  "language_info": {
   "codemirror_mode": {
    "name": "ipython",
    "version": 3
   },
   "file_extension": ".py",
   "mimetype": "text/x-python",
   "name": "python",
   "nbconvert_exporter": "python",
   "pygments_lexer": "ipython3",
   "version": "3.13.5"
  }
 },
 "nbformat": 4,
 "nbformat_minor": 5
}
