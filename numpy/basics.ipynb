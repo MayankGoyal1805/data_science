{
 "cells": [
  {
   "cell_type": "code",
   "execution_count": 7,
   "id": "14dbeb98",
   "metadata": {},
   "outputs": [
    {
     "name": "stdout",
     "output_type": "stream",
     "text": [
      "unsigned c: [4294967293 4294967293 4294967293] uint32\n"
     ]
    }
   ],
   "source": [
    "import numpy as np\n",
    "\n",
    "a = np.array([2, 3, 4], dtype=np.uint32)\n",
    "\n",
    "b = np.array([5, 6, 7], dtype=np.uint32)\n",
    "\n",
    "c = a - b\n",
    "\n",
    "print('unsigned c:', c, c.dtype)"
   ]
  },
  {
   "cell_type": "markdown",
   "id": "04f27bb5",
   "metadata": {},
   "source": [
    "1D Array Making"
   ]
  },
  {
   "cell_type": "code",
   "execution_count": 16,
   "id": "b7e73d2f",
   "metadata": {},
   "outputs": [
    {
     "name": "stdout",
     "output_type": "stream",
     "text": [
      "[10 15 20 25 30 35]\n",
      "[4 5 6 7 8]\n"
     ]
    }
   ],
   "source": [
    "a = np.arange(10,40,5,dtype=int)\n",
    "print(a)\n",
    "\n",
    "b = np.linspace(4,8,5,dtype=int)\n",
    "\n",
    "print(b)"
   ]
  },
  {
   "cell_type": "code",
   "execution_count": 29,
   "id": "221f594a",
   "metadata": {},
   "outputs": [
    {
     "name": "stdout",
     "output_type": "stream",
     "text": [
      "[0 0 0 0 0]\n",
      "[1 1 1 1 1 1]\n",
      "[16843009 16843009 16843009]\n"
     ]
    }
   ],
   "source": [
    "a = np.zeros(5,dtype=int)\n",
    "print(a)\n",
    "\n",
    "b = np.ones(6)\n",
    "print(b.astype(np.int64))\n",
    "\n",
    "c = np.empty(3,dtype=int)\n",
    "print(c)"
   ]
  },
  {
   "cell_type": "markdown",
   "id": "c7bfdb92",
   "metadata": {},
   "source": [
    "2d Matrix making"
   ]
  },
  {
   "cell_type": "code",
   "execution_count": null,
   "id": "d773609c",
   "metadata": {},
   "outputs": [],
   "source": []
  }
 ],
 "metadata": {
  "kernelspec": {
   "display_name": "base",
   "language": "python",
   "name": "python3"
  },
  "language_info": {
   "codemirror_mode": {
    "name": "ipython",
    "version": 3
   },
   "file_extension": ".py",
   "mimetype": "text/x-python",
   "name": "python",
   "nbconvert_exporter": "python",
   "pygments_lexer": "ipython3",
   "version": "3.12.7"
  }
 },
 "nbformat": 4,
 "nbformat_minor": 5
}
