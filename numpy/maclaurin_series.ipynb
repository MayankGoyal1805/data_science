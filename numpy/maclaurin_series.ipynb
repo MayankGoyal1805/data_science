{
 "cells": [
  {
   "cell_type": "code",
   "execution_count": 7,
   "id": "faf66530",
   "metadata": {},
   "outputs": [
    {
     "name": "stdout",
     "output_type": "stream",
     "text": [
      "20.085468593906093\n"
     ]
    }
   ],
   "source": [
    "from math import e,factorial\n",
    "import numpy as np\n",
    "\n",
    "def main():\n",
    "    x = int(input(\"Enter the x in e^x: \"))\n",
    "    n = int(input(\"Enter the number till which to approximate it: \"))\n",
    "    print(macl(x,n))\n",
    "\n",
    "def macl(x,n): \n",
    "    fac = np.vectorize(factorial)\n",
    "    arr1 = np.arange(n)\n",
    "    arr2 = (x**arr1)/fac(arr1)\n",
    "    return arr2.sum()\n",
    "\n",
    "main()"
   ]
  },
  {
   "cell_type": "code",
   "execution_count": null,
   "id": "8ed2bc98",
   "metadata": {},
   "outputs": [
    {
     "data": {
      "text/plain": [
       "50"
      ]
     },
     "execution_count": 12,
     "metadata": {},
     "output_type": "execute_result"
    }
   ],
   "source": [
    "names = np.array([\"bob\", \"amy\", \"han\"], dtype=str)\n",
    "names.itemsize\n",
    "\n",
    "names = \"bobamyhan\"\n"
   ]
  }
 ],
 "metadata": {
  "kernelspec": {
   "display_name": "myenv",
   "language": "python",
   "name": "python3"
  },
  "language_info": {
   "codemirror_mode": {
    "name": "ipython",
    "version": 3
   },
   "file_extension": ".py",
   "mimetype": "text/x-python",
   "name": "python",
   "nbconvert_exporter": "python",
   "pygments_lexer": "ipython3",
   "version": "3.13.5"
  }
 },
 "nbformat": 4,
 "nbformat_minor": 5
}
